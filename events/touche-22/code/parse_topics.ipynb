{
 "cells": [
  {
   "cell_type": "code",
   "execution_count": null,
   "metadata": {},
   "outputs": [],
   "source": [
    "import xml.etree.ElementTree as ET"
   ]
  },
  {
   "cell_type": "code",
   "execution_count": null,
   "metadata": {},
   "outputs": [],
   "source": [
    "mytree = ET.parse('topics-task2.xml')\n",
    "myroot = mytree.getroot()"
   ]
  },
  {
   "cell_type": "code",
   "execution_count": null,
   "metadata": {},
   "outputs": [],
   "source": [
    "# The example below shows how to access the topic title\n",
    "# In the similar way, descriptions and narratives can also be accessed\n",
    "\n",
    "titles = list()\n",
    "for item in myroot:\n",
    "    for x in item:        \n",
    "        if x.tag == \"title\": # Specify the field, e.g., title\n",
    "            titles.append(x.text)\n",
    "\n",
    "print(len(titles))\n",
    "print(titles[0])"
   ]
  }
 ],
 "metadata": {
  "kernelspec": {
   "display_name": "Python 3",
   "language": "python",
   "name": "python3"
  },
  "language_info": {
   "codemirror_mode": {
    "name": "ipython",
    "version": 3
   },
   "file_extension": ".py",
   "mimetype": "text/x-python",
   "name": "python",
   "nbconvert_exporter": "python",
   "pygments_lexer": "ipython3",
   "version": "3.8.10"
  }
 },
 "nbformat": 4,
 "nbformat_minor": 4
}
